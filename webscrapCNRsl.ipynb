{
 "cells": [
  {
   "cell_type": "code",
   "execution_count": null,
   "metadata": {},
   "outputs": [],
   "source": [
    "import requests\n",
    "import pandas as pd\n",
    "import xlsxwriter\n",
    "import csv\n",
    "import numpy as np\n",
    "from openpyxl import *\n",
    "\n",
    "url = 'https://www.cnr.gob.cl/agricultores/su-consultor/'\n",
    "cnr = requests.get(url)\n",
    "cnr.status_code"
   ]
  },
  {
   "cell_type": "code",
   "execution_count": 87,
   "metadata": {
    "scrolled": true
   },
   "outputs": [],
   "source": [
    "from bs4 import BeautifulSoup\n",
    "s = BeautifulSoup(cnr.text, 'lxml')\n",
    "from selenium import webdriver\n",
    "\n",
    "options = webdriver.ChromeOptions()\n",
    "options.add_argument('--incognito')\n",
    "driver = webdriver.Chrome('your location of chromedriver.exe',options = options)\n",
    "driver.get(url)\n",
    " "
   ]
  },
  {
   "cell_type": "code",
   "execution_count": 88,
   "metadata": {},
   "outputs": [],
   "source": [
    "elements = driver.find_elements_by_tag_name('td')\n"
   ]
  },
  {
   "cell_type": "code",
   "execution_count": 89,
   "metadata": {
    "scrolled": true
   },
   "outputs": [],
   "source": [
    "for i in range(0,len(elements),8):\n",
    "    elements[i].click()"
   ]
  },
  {
   "cell_type": "code",
   "execution_count": 90,
   "metadata": {},
   "outputs": [],
   "source": [
    "newelements = driver.find_elements_by_class_name('dtr-data')\n",
    "oldelements = driver.find_elements_by_tag_name('td')"
   ]
  },
  {
   "cell_type": "code",
   "execution_count": 96,
   "metadata": {},
   "outputs": [],
   "source": [
    "import math\n",
    "wb=load_workbook(r'location of where you ')\n",
    "ws=wb[\"FinalConsultores\"]\n",
    " \n",
    "for i in range(3, 941):   \n",
    "    wcell1=ws.cell(i,1)\n",
    "    wcell1.value=i-2\n",
    "    \n",
    "for i in range(1, int(len(newelements)/6)):    \n",
    "    posregion = (i-1)*6\n",
    "    poscel = (i-1)*6+1\n",
    "    posclasif = (i-1)*6+2\n",
    "    posnota = (i-1)*6+3\n",
    "    poscorreo = (i-1)*6+4\n",
    "    posregiones = (i-1)*6+5\n",
    "\n",
    "    wcell0=ws.cell(i+2,4)\n",
    "    wcell1=ws.cell(i+2,5)\n",
    "    wcell2=ws.cell(i+2,6)\n",
    "    wcell3=ws.cell(i+2,7)\n",
    "    wcell4=ws.cell(i+2,8)\n",
    "    wcell5=ws.cell(i+2,9)\n",
    "    \n",
    "    wcell0.value=newelements[posregion].text\n",
    "    wcell1.value=newelements[poscel].text\n",
    "    wcell2.value=newelements[posclasif].text\n",
    "    wcell3.value=newelements[posnota].text\n",
    "    wcell4.value=newelements[poscorreo].text\n",
    "    wcell5.value=newelements[posregiones].text\n",
    "\n",
    "\n",
    "for i in range(1,int(len(oldelements)/9)):    \n",
    "    posnombre = (i-1)*9\n",
    "    poscomuna = (i-1)*9+1\n",
    "    wcell1=ws.cell(i+2,2)\n",
    "    wcell2=ws.cell(i+2,3)\n",
    "    wcell1.value = oldelements[posnombre].text\n",
    "    wcell2.value = oldelements[poscomuna].text\n",
    "\n",
    "    \n",
    "wb.save(r'your .xlsx file location')"
   ]
  }
 ],
 "metadata": {
  "kernelspec": {
   "display_name": "Python 3",
   "language": "python",
   "name": "python3"
  },
  "language_info": {
   "codemirror_mode": {
    "name": "ipython",
    "version": 3
   },
   "file_extension": ".py",
   "mimetype": "text/x-python",
   "name": "python",
   "nbconvert_exporter": "python",
   "pygments_lexer": "ipython3",
   "version": "3.7.3"
  }
 },
 "nbformat": 4,
 "nbformat_minor": 2
}
